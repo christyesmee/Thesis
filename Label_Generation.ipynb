{
  "cells": [
    {
      "cell_type": "markdown",
      "metadata": {
        "id": "view-in-github",
        "colab_type": "text"
      },
      "source": [
        "<a href=\"https://colab.research.google.com/github/christyesmee/Thesis/blob/main/Label_Generation.ipynb\" target=\"_parent\"><img src=\"https://colab.research.google.com/assets/colab-badge.svg\" alt=\"Open In Colab\"/></a>"
      ]
    },
    {
      "cell_type": "code",
      "execution_count": null,
      "metadata": {
        "colab": {
          "base_uri": "https://localhost:8080/"
        },
        "id": "mI0bs3rGJL3b",
        "outputId": "e4e8cf02-0aed-475e-db11-0d7cd22b1459"
      },
      "outputs": [
        {
          "output_type": "stream",
          "name": "stdout",
          "text": [
            "Drive already mounted at /content/drive; to attempt to forcibly remount, call drive.mount(\"/content/drive\", force_remount=True).\n"
          ]
        }
      ],
      "source": [
        "from google.colab import drive\n",
        "\n",
        "drive_path = \"/content/drive\"\n",
        "drive.mount(drive_path)"
      ]
    },
    {
      "cell_type": "code",
      "execution_count": null,
      "metadata": {
        "id": "n3FVkqkLJRzN"
      },
      "outputs": [],
      "source": [
        "import torch\n",
        "import os\n",
        "import torchvision.models as models\n",
        "import torch.nn as nn\n",
        "import numpy as np\n",
        "import torch.nn.functional as F\n",
        "from sklearn.model_selection import KFold\n",
        "from torch.utils.data import Dataset, DataLoader, Subset\n",
        "from torchvision.transforms import CenterCrop\n",
        "from torchvision.models.resnet import ResNet18_Weights\n",
        "from tqdm.notebook import tqdm, trange"
      ]
    },
    {
      "cell_type": "markdown",
      "metadata": {
        "id": "y-wN7B1QVBEw"
      },
      "source": [
        "# NDVI calculations"
      ]
    },
    {
      "cell_type": "code",
      "execution_count": null,
      "metadata": {
        "id": "ktU5yJLwJTvk"
      },
      "outputs": [],
      "source": [
        "# File path setup\n",
        "img_dir = \"18_sat_pt_processed\"\n",
        "folder_path = f\"{drive_path}/MyDrive/{img_dir}\"\n",
        "\n",
        "# Image path & scale\n",
        "file_name = \"galicia_split_image\"\n",
        "file_path = f\"{folder_path}/{file_name}\"\n",
        "scale = 10  # pixels per meter\n",
        "AS_TYPE = torch.float32"
      ]
    },
    {
      "cell_type": "code",
      "execution_count": null,
      "metadata": {
        "id": "BzXSUKlqJTtP"
      },
      "outputs": [],
      "source": [
        "def calculate_ndvi_for_image(data):\n",
        "    \"\"\"\n",
        "    Calculate NDVI for each pixel in the image.\n",
        "\n",
        "    Parameters:\n",
        "    data (torch.Tensor): Tensor containing the image data with shape (num_channels, height, width)\n",
        "\n",
        "    Returns:\n",
        "    torch.Tensor: NDVI values for each pixel in the image with shape (height, width)\n",
        "    \"\"\"\n",
        "    # Extract the NIR and RED bands (assuming specific indices, adjust if necessary)\n",
        "    nir_band = data[3, :, :]  # NIR band, example index 3\n",
        "    red_band = data[0, :, :]  # RED band, example index 0\n",
        "\n",
        "    # Initialize the NDVI tensor\n",
        "    ndvi_band = torch.zeros_like(nir_band)\n",
        "\n",
        "    # Get the height and width of the image\n",
        "    height, width = nir_band.shape\n",
        "\n",
        "    # Calculate NDVI for each pixel\n",
        "    epsilon = 1e-6  # Small value to avoid division by zero\n",
        "    for row in range(height):\n",
        "        for col in range(width):\n",
        "            nir_value = nir_band[row, col].item()\n",
        "            red_value = red_band[row, col].item()\n",
        "            ndvi_value = (nir_value - red_value) / (nir_value + red_value + epsilon)\n",
        "            ndvi_band[row, col] = ndvi_value\n",
        "\n",
        "    return ndvi_band"
      ]
    },
    {
      "cell_type": "code",
      "execution_count": null,
      "metadata": {
        "id": "3EkLigqyJe8j"
      },
      "outputs": [],
      "source": [
        "def calculate_mean_ndvi(ndvi_path):\n",
        "    \"\"\"\n",
        "    Calculate the mean NDVI value for the image stored in the .pt file by looping through all pixel values.\n",
        "\n",
        "    Parameters:\n",
        "    ndvi_path (str): Path to the .pt file containing the NDVI image\n",
        "\n",
        "    Returns:\n",
        "    float: Mean NDVI value\n",
        "    \"\"\"\n",
        "    # Load the NDVI image from the .pt file\n",
        "    ndvi_image = torch.load(ndvi_path)\n",
        "\n",
        "    # Initialize a list to hold all valid NDVI values\n",
        "    ndvi_values = []\n",
        "\n",
        "    # Get the height and width of the image\n",
        "    height, width = ndvi_image.shape\n",
        "\n",
        "    # Loop through each pixel in the image to collect NDVI values\n",
        "    for row in range(height):\n",
        "        for col in range(width):\n",
        "            ndvi_value = ndvi_image[row, col].item()\n",
        "            if torch.isfinite(torch.tensor(ndvi_value)):  # Check if the value is finite (not NaN or Inf)\n",
        "                ndvi_values.append(ndvi_value)\n",
        "\n",
        "    # Calculate the mean NDVI value\n",
        "    if len(ndvi_values) > 0:\n",
        "        mean_ndvi = sum(ndvi_values) / len(ndvi_values)\n",
        "    else:\n",
        "        mean_ndvi = float('nan')  # If no valid values, return NaN\n",
        "\n",
        "    return mean_ndvi"
      ]
    },
    {
      "cell_type": "code",
      "source": [
        "# calcualte NDVI for each pixel for every image\n",
        "\n",
        "slices = 7\n",
        "\n",
        "for idx in trange(slices):\n",
        "    for jdx in trange(slices, leave=False):\n",
        "\n",
        "        # Load tensor as array\n",
        "        file_path_full = f\"{file_path}_{idx}_{jdx}.pt\"\n",
        "        data = torch.load(file_path_full)\n",
        "\n",
        "        try:\n",
        "            ndvi_image = calculate_ndvi_for_image(data)\n",
        "\n",
        "            # Print NDVI values for some example pixels\n",
        "            print(f'{idx}_{jdx} -- NDVI value at (100, 200): {ndvi_image[100, 200].item()}')\n",
        "\n",
        "            # Save the NDVI image as a .pt file\n",
        "            output_path = f\"{folder_path}/ndvi18_{idx}_{jdx}.pt\"\n",
        "            torch.save(ndvi_image, output_path)\n",
        "            print(f'{idx}_{jdx} -- NDVI image saved to {output_path}')\n",
        "\n",
        "        except:\n",
        "            print(f'{idx}_{jdx} -- File not found: {idx}_{jdx}')"
      ],
      "metadata": {
        "id": "OECY9UDKvnwB"
      },
      "execution_count": null,
      "outputs": []
    },
    {
      "cell_type": "code",
      "execution_count": null,
      "metadata": {
        "colab": {
          "background_save": true,
          "base_uri": "https://localhost:8080/"
        },
        "id": "V4h2lXSaMmb7",
        "outputId": "7a24f096-8688-4593-a026-285198a00720"
      },
      "outputs": [
        {
          "name": "stderr",
          "output_type": "stream",
          "text": [
            "  0%|          | 0/7 [00:00<?, ?it/s]\n",
            "  0%|          | 0/7 [00:00<?, ?it/s]\u001b[A\n",
            " 57%|█████▋    | 4/7 [02:26<01:49, 36.60s/it]\u001b[A"
          ]
        },
        {
          "name": "stdout",
          "output_type": "stream",
          "text": [
            "5_3 -- NDVI value at (100, 200): 0.5661264061927795\n",
            "5_3 -- NDVI image saved to /content/drive/MyDrive/Thesis Esmee/processed/1819_sat/ndvi1819_5_3.pt\n",
            "5_4 -- NDVI value at (100, 200): 0.516076922416687\n"
          ]
        },
        {
          "name": "stderr",
          "output_type": "stream",
          "text": [
            "\n",
            " 71%|███████▏  | 5/7 [04:41<02:05, 62.57s/it]\u001b[A"
          ]
        },
        {
          "name": "stdout",
          "output_type": "stream",
          "text": [
            "5_4 -- NDVI image saved to /content/drive/MyDrive/Thesis Esmee/processed/1819_sat/ndvi1819_5_4.pt\n"
          ]
        },
        {
          "name": "stderr",
          "output_type": "stream",
          "text": [
            "\n",
            " 86%|████████▌ | 6/7 [06:54<01:21, 81.64s/it]\u001b[A"
          ]
        },
        {
          "name": "stdout",
          "output_type": "stream",
          "text": [
            "5_5 -- NDVI value at (100, 200): 0.4725882411003113\n",
            "5_5 -- NDVI image saved to /content/drive/MyDrive/Thesis Esmee/processed/1819_sat/ndvi1819_5_5.pt\n"
          ]
        },
        {
          "name": "stderr",
          "output_type": "stream",
          "text": [
            "\n",
            "100%|██████████| 7/7 [09:08<00:00, 96.53s/it]\u001b[A\n",
            " 86%|████████▌ | 6/7 [09:08<01:31, 91.46s/it]"
          ]
        },
        {
          "name": "stdout",
          "output_type": "stream",
          "text": [
            "5_6 -- NDVI value at (100, 200): 0.566939115524292\n",
            "5_6 -- NDVI image saved to /content/drive/MyDrive/Thesis Esmee/processed/1819_sat/ndvi1819_5_6.pt\n"
          ]
        },
        {
          "name": "stderr",
          "output_type": "stream",
          "text": [
            "\n",
            "  0%|          | 0/7 [00:00<?, ?it/s]\u001b[A\n",
            " 14%|█▍        | 1/7 [02:13<13:19, 133.18s/it]\u001b[A"
          ]
        },
        {
          "name": "stdout",
          "output_type": "stream",
          "text": [
            "6_0 -- NDVI value at (100, 200): 0.550274670124054\n",
            "6_0 -- NDVI image saved to /content/drive/MyDrive/Thesis Esmee/processed/1819_sat/ndvi1819_6_0.pt\n"
          ]
        },
        {
          "name": "stderr",
          "output_type": "stream",
          "text": [
            "\n",
            " 29%|██▊       | 2/7 [04:27<11:10, 134.13s/it]\u001b[A"
          ]
        },
        {
          "name": "stdout",
          "output_type": "stream",
          "text": [
            "6_1 -- NDVI value at (100, 200): 0.5984295010566711\n",
            "6_1 -- NDVI image saved to /content/drive/MyDrive/Thesis Esmee/processed/1819_sat/ndvi1819_6_1.pt\n"
          ]
        },
        {
          "name": "stderr",
          "output_type": "stream",
          "text": [
            "\n",
            " 43%|████▎     | 3/7 [06:41<08:55, 133.92s/it]\u001b[A"
          ]
        },
        {
          "name": "stdout",
          "output_type": "stream",
          "text": [
            "6_2 -- NDVI value at (100, 200): 0.2741166353225708\n",
            "6_2 -- NDVI image saved to /content/drive/MyDrive/Thesis Esmee/processed/1819_sat/ndvi1819_6_2.pt\n"
          ]
        },
        {
          "name": "stderr",
          "output_type": "stream",
          "text": [
            "\n",
            " 57%|█████▋    | 4/7 [08:59<06:45, 135.30s/it]\u001b[A"
          ]
        },
        {
          "name": "stdout",
          "output_type": "stream",
          "text": [
            "6_3 -- NDVI value at (100, 200): 0.6256580352783203\n",
            "6_3 -- NDVI image saved to /content/drive/MyDrive/Thesis Esmee/processed/1819_sat/ndvi1819_6_3.pt\n"
          ]
        },
        {
          "name": "stderr",
          "output_type": "stream",
          "text": [
            "\n",
            " 71%|███████▏  | 5/7 [11:15<04:31, 135.69s/it]\u001b[A"
          ]
        },
        {
          "name": "stdout",
          "output_type": "stream",
          "text": [
            "6_4 -- NDVI value at (100, 200): 0.5310978293418884\n",
            "6_4 -- NDVI image saved to /content/drive/MyDrive/Thesis Esmee/processed/1819_sat/ndvi1819_6_4.pt\n"
          ]
        },
        {
          "name": "stderr",
          "output_type": "stream",
          "text": [
            "\n",
            " 86%|████████▌ | 6/7 [13:32<02:16, 136.14s/it]\u001b[A"
          ]
        },
        {
          "name": "stdout",
          "output_type": "stream",
          "text": [
            "6_5 -- NDVI value at (100, 200): 0.3225417137145996\n",
            "6_5 -- NDVI image saved to /content/drive/MyDrive/Thesis Esmee/processed/1819_sat/ndvi1819_6_5.pt\n"
          ]
        },
        {
          "name": "stderr",
          "output_type": "stream",
          "text": [
            "\n",
            "100%|██████████| 7/7 [15:44<00:00, 134.83s/it]\u001b[A\n",
            "100%|██████████| 7/7 [24:53<00:00, 213.34s/it]"
          ]
        },
        {
          "name": "stdout",
          "output_type": "stream",
          "text": [
            "6_6 -- NDVI value at (100, 200): 0.3148445785045624\n",
            "6_6 -- NDVI image saved to /content/drive/MyDrive/Thesis Esmee/processed/1819_sat/ndvi1819_6_6.pt\n"
          ]
        },
        {
          "name": "stderr",
          "output_type": "stream",
          "text": [
            "\n"
          ]
        }
      ],
      "source": [
        "from tqdm import trange\n",
        "\n",
        "slices = 7\n",
        "\n",
        "for idx in trange(slices):\n",
        "    if idx < 5:\n",
        "        continue  # Skip all indices before 5\n",
        "\n",
        "    for jdx in trange(slices, leave=False):\n",
        "        if idx == 5 and jdx < 3:\n",
        "            continue  # Skip all jdx indices before 3 when idx is 5\n",
        "\n",
        "        # Load tensor as array\n",
        "        file_path_full = f\"{file_path}_{idx}_{jdx}.pt\"\n",
        "        try:\n",
        "            data = torch.load(file_path_full)\n",
        "            ndvi_image = calculate_ndvi_for_image(data)\n",
        "\n",
        "            # Print NDVI values for some example pixels\n",
        "            print(f'{idx}_{jdx} -- NDVI value at (100, 200): {ndvi_image[100, 200].item()}')\n",
        "\n",
        "            # Save the NDVI image as a .pt file\n",
        "            output_path = f\"{folder_path}/ndvi1819_{idx}_{jdx}.pt\"\n",
        "            torch.save(ndvi_image, output_path)\n",
        "            print(f'{idx}_{jdx} -- NDVI image saved to {output_path}')\n",
        "\n",
        "        except FileNotFoundError:\n",
        "            print(f'{idx}_{jdx} -- File not found: {file_path_full}')\n",
        "        except Exception as e:\n",
        "            print(f'{idx}_{jdx} -- Error processing file: {str(e)}')\n"
      ]
    },
    {
      "cell_type": "code",
      "execution_count": null,
      "metadata": {
        "id": "H03-s2MqM0VD"
      },
      "outputs": [],
      "source": [
        "# calculating mean NDVI for one image\n",
        "\n",
        "slices = 7\n",
        "ndvi1718_list = []\n",
        "\n",
        "for idx in trange(slices):\n",
        "    for jdx in trange(slices, leave=False):\n",
        "\n",
        "        # Load tensor as array\n",
        "        ndvi_file_path = f\"{folder_path}/ndvi1718_{idx}_{jdx}.pt\"\n",
        "        data = torch.load(ndvi_file_path)\n",
        "\n",
        "        try:\n",
        "            # Calculate the mean NDVI value for the image\n",
        "            mean_ndvi_value = calculate_mean_ndvi(ndvi_file_path)\n",
        "            print(f'{idx}_{jdx} -- Mean NDVI value: {mean_ndvi_value}')\n",
        "            ndvi1718_list.append(mean_ndvi_value)                            # Or store in tensor?\n",
        "            print(ndvi1718_list)\n",
        "            print(f'{idx}_{jdx} -- Finished')\n",
        "\n",
        "        except:\n",
        "            print(f'{idx}_{jdx} -- File not found: {idx}_{jdx}')"
      ]
    },
    {
      "cell_type": "code",
      "execution_count": null,
      "metadata": {
        "id": "Lq_ZX9NTZm9F"
      },
      "outputs": [],
      "source": [
        "# calculate ndvi for all images\n",
        "\n",
        "# we now have a list of values from all 49 tensors from 1718.\n",
        "# we need the mean ndvi for the entire area, so we have to get the mean of all 49 tensors\n",
        "\n",
        "ndvi1718_label = sum(ndvi1718_list) / len(ndvi1718_list)\n",
        "print(f'ndvi mean 1718{ndvi1718_label}')"
      ]
    },
    {
      "cell_type": "code",
      "execution_count": null,
      "metadata": {
        "id": "akqK4xs_Z6-X"
      },
      "outputs": [],
      "source": [
        "# Calculate Ground Truth NDVI Difference:\n",
        "# now we need to calculate the difference between 1819 and 1718 labels for each pixel\n",
        "\n"
      ]
    },
    {
      "cell_type": "code",
      "execution_count": null,
      "metadata": {
        "colab": {
          "base_uri": "https://localhost:8080/"
        },
        "id": "zwz29ipW9JJq",
        "outputId": "28ff772d-cf80-49f8-b698-585948218d02"
      },
      "outputs": [
        {
          "name": "stdout",
          "output_type": "stream",
          "text": [
            "torch.Size([2400, 2400])\n",
            "Subset of tensor values:\n",
            "tensor([[   nan,    nan,    nan,    nan,    nan,    nan,    nan,    nan,    nan,\n",
            "            nan],\n",
            "        [0.3562, 0.3583, 0.3498, 0.3498, 0.3656, 0.3649, 0.3461, 0.3461, 0.3685,\n",
            "         0.3521],\n",
            "        [0.3788, 0.3745, 0.3762, 0.3762, 0.3888, 0.3692, 0.3381, 0.3381, 0.3406,\n",
            "         0.3338],\n",
            "        [0.3960, 0.4028, 0.4105, 0.4105, 0.4045, 0.3728, 0.3337, 0.3337, 0.3160,\n",
            "         0.3119],\n",
            "        [0.3930, 0.4091, 0.4067, 0.4067, 0.3951, 0.3559, 0.3158, 0.3158, 0.3021,\n",
            "         0.2951],\n",
            "        [0.3943, 0.4080, 0.3963, 0.3963, 0.3781, 0.3332, 0.3126, 0.3126, 0.3124,\n",
            "         0.2973],\n",
            "        [0.4156, 0.4219, 0.4030, 0.3698, 0.3698, 0.3331, 0.3345, 0.3345, 0.3431,\n",
            "         0.3506],\n",
            "        [0.4195, 0.4243, 0.4033, 0.3649, 0.3649, 0.3596, 0.3909, 0.3909, 0.4137,\n",
            "         0.4493],\n",
            "        [0.4253, 0.4244, 0.3899, 0.3708, 0.3708, 0.3902, 0.4295, 0.4295, 0.4612,\n",
            "         0.4685],\n",
            "        [0.4106, 0.3831, 0.3775, 0.4139, 0.4139, 0.4260, 0.4395, 0.4395, 0.4492,\n",
            "         0.4311]])\n"
          ]
        }
      ],
      "source": [
        "import torch\n",
        "\n",
        "# Load the tensor\n",
        "output_path = '/content/drive/MyDrive/Thesis Esmee/processed/1718_sat/ndvi_1718_0_0.pt'\n",
        "tensor = torch.load(output_path)\n",
        "\n",
        "# Print the shape of the tensor\n",
        "print(tensor.shape)\n",
        "\n",
        "# Print a subset of the tensor values\n",
        "subset = tensor[:10, :10]  # Adjust the indices as needed\n",
        "print(\"Subset of tensor values:\")\n",
        "print(subset)\n"
      ]
    },
    {
      "cell_type": "code",
      "execution_count": null,
      "metadata": {
        "colab": {
          "base_uri": "https://localhost:8080/"
        },
        "id": "Ehj0dfxwyuk5",
        "outputId": "c27ff087-4f8c-49db-bfb8-94e2b14733e4"
      },
      "outputs": [
        {
          "name": "stdout",
          "output_type": "stream",
          "text": [
            "Mean NDVI value: 0.44347531549492564\n"
          ]
        }
      ],
      "source": [
        "import torch\n",
        "\n",
        "def calculate_mean_ndvi(ndvi_path):\n",
        "    \"\"\"\n",
        "    Calculate the mean NDVI value for the image stored in the .pt file by looping through all pixel values.\n",
        "\n",
        "    Parameters:\n",
        "    ndvi_path (str): Path to the .pt file containing the NDVI image\n",
        "\n",
        "    Returns:\n",
        "    float: Mean NDVI value\n",
        "    \"\"\"\n",
        "    # Load the NDVI image from the .pt file\n",
        "    ndvi_image = torch.load(ndvi_path)\n",
        "\n",
        "    # Initialize a list to hold all valid NDVI values\n",
        "    ndvi_values = []\n",
        "\n",
        "    # Get the height and width of the image\n",
        "    height, width = ndvi_image.shape\n",
        "\n",
        "    # Loop through each pixel in the image to collect NDVI values\n",
        "    for row in range(height):\n",
        "        for col in range(width):\n",
        "            ndvi_value = ndvi_image[row, col].item()\n",
        "            if torch.isfinite(torch.tensor(ndvi_value)):  # Check if the value is finite (not NaN or Inf)\n",
        "                ndvi_values.append(ndvi_value)\n",
        "\n",
        "    # Calculate the mean NDVI value\n",
        "    if len(ndvi_values) > 0:\n",
        "        mean_ndvi = sum(ndvi_values) / len(ndvi_values)\n",
        "    else:\n",
        "        mean_ndvi = float('nan')  # If no valid values, return NaN\n",
        "\n",
        "    return mean_ndvi\n",
        "\n",
        "# Path to the NDVI image .pt file\n",
        "ndvi_file_path = '/content/drive/MyDrive/Thesis Esmee/processed/1718_sat/ndvi_1718.pt'\n",
        "\n",
        "# Calculate the mean NDVI value for the image\n",
        "mean_ndvi_value = calculate_mean_ndvi(ndvi_file_path)\n",
        "\n",
        "print(f'Mean NDVI value: {mean_ndvi_value}')\n"
      ]
    },
    {
      "cell_type": "code",
      "execution_count": null,
      "metadata": {
        "id": "L8jeWs100M_z"
      },
      "outputs": [],
      "source": [
        "# now calculate for all images by looping through the 1718_sat dict for all .pt\n",
        "# return first all images ndvi means\n",
        "# then take the average of those 49 images\n",
        "# this average is the ndvi mean of 1718\n",
        "\n",
        "# then do the same for 1819\n",
        "\n",
        "\n",
        "# then 18mean(for each image/pixel) - 17mean(for each image/pixel) = ndvi_target (to train with 1718)"
      ]
    },
    {
      "cell_type": "code",
      "execution_count": null,
      "metadata": {
        "colab": {
          "base_uri": "https://localhost:8080/"
        },
        "id": "XtgRqSQgxntu",
        "outputId": "5ecdff93-260d-47dc-8dfd-16e651dde15f"
      },
      "outputs": [
        {
          "name": "stdout",
          "output_type": "stream",
          "text": [
            "NDVI value at (100, 200): 0.3452032804489136\n",
            "NDVI value at (150, 250): 0.4811120331287384\n"
          ]
        }
      ],
      "source": [
        "import torch\n",
        "\n",
        "def calculate_ndvi_for_image(data):\n",
        "    \"\"\"\n",
        "    Calculate NDVI for each pixel in the image.\n",
        "\n",
        "    Parameters:\n",
        "    data (torch.Tensor): Tensor containing the image data with shape (num_channels, height, width)\n",
        "\n",
        "    Returns:\n",
        "    torch.Tensor: NDVI values for each pixel in the image with shape (height, width)\n",
        "    \"\"\"\n",
        "    # Extract the NIR and RED bands (assuming specific indices, adjust if necessary)\n",
        "    nir_band = data[3, :, :]  # NIR band, example index 3\n",
        "    red_band = data[0, :, :]  # RED band, example index 0\n",
        "\n",
        "    # Initialize the NDVI tensor\n",
        "    ndvi_band = torch.zeros_like(nir_band)\n",
        "\n",
        "    # Get the height and width of the image\n",
        "    height, width = nir_band.shape\n",
        "\n",
        "    # Calculate NDVI for each pixel\n",
        "    epsilon = 1e-6  # Small value to avoid division by zero\n",
        "    for row in range(height):\n",
        "        for col in range(width):\n",
        "            nir_value = nir_band[row, col].item()\n",
        "            red_value = red_band[row, col].item()\n",
        "            ndvi_value = (nir_value - red_value) / (nir_value + red_value + epsilon)\n",
        "            ndvi_band[row, col] = ndvi_value\n",
        "\n",
        "    return ndvi_band\n",
        "\n",
        "# Load the tensor from the file\n",
        "file_path = '/content/drive/MyDrive/Thesis Esmee/processed/1718_sat/galicia_split_image_0_0.pt'\n",
        "data = torch.load(file_path)\n",
        "\n",
        "# Calculate NDVI for the image\n",
        "ndvi_image = calculate_ndvi_for_image(data)\n",
        "\n",
        "# Print NDVI values for some example pixels\n",
        "print(f'NDVI value at (100, 200): {ndvi_image[100, 200].item()}')\n",
        "print(f'NDVI value at (150, 250): {ndvi_image[150, 250].item()}')\n"
      ]
    }
  ],
  "metadata": {
    "colab": {
      "machine_shape": "hm",
      "provenance": [],
      "include_colab_link": true
    },
    "kernelspec": {
      "display_name": "Python 3",
      "name": "python3"
    },
    "language_info": {
      "name": "python"
    }
  },
  "nbformat": 4,
  "nbformat_minor": 0
}